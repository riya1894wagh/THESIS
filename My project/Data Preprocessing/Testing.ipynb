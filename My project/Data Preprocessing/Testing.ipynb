{
 "cells": [
  {
   "cell_type": "code",
   "execution_count": 1,
   "id": "b4f266cf",
   "metadata": {},
   "outputs": [],
   "source": [
    "import pandas as pd\n",
    "from sklearn.preprocessing import LabelEncoder"
   ]
  },
  {
   "cell_type": "code",
   "execution_count": 2,
   "id": "f1658d0d",
   "metadata": {},
   "outputs": [],
   "source": [
    "df = pd.read_csv(\"testing\")"
   ]
  },
  {
   "cell_type": "code",
   "execution_count": 3,
   "id": "9244c2e6",
   "metadata": {},
   "outputs": [],
   "source": [
    "df = df.drop(columns=\"Unnamed: 0\")"
   ]
  },
  {
   "cell_type": "code",
   "execution_count": 4,
   "id": "5349079a",
   "metadata": {},
   "outputs": [
    {
     "data": {
      "text/plain": [
       "(2678, 12)"
      ]
     },
     "execution_count": 4,
     "metadata": {},
     "output_type": "execute_result"
    }
   ],
   "source": [
    "df.shape "
   ]
  },
  {
   "cell_type": "code",
   "execution_count": 6,
   "id": "d01cb616",
   "metadata": {},
   "outputs": [
    {
     "data": {
      "text/plain": [
       "array(['Indian Institute of Technology Bombay',\n",
       "       'Indian Institute of Technology Kanpur',\n",
       "       'Indian Institute of Technology Kharagpur',\n",
       "       'Indian Institute of Technology Madras',\n",
       "       'Indian Institute of Technology (ISM) Dhanbad',\n",
       "       'Indian Institute of Technology Roorkee',\n",
       "       'Indian Institute of Technology (BHU) Varanasi',\n",
       "       'Indian Institute of Technology Gandhinagar',\n",
       "       'Indian Institute of Technology Hyderabad',\n",
       "       'Indian Institute of Technology Jodhpur',\n",
       "       'Indian Institute of Technology Mandi',\n",
       "       'Indian Institute of Technology Guwahati',\n",
       "       'Indian Institute of Technology Dharwad',\n",
       "       'Indian Institute of Technology Delhi',\n",
       "       'Indian Institute of Technology Bhubaneswar',\n",
       "       'Indian Institute of Technology Indore',\n",
       "       'Indian Institute of Technology Jammu',\n",
       "       'Indian Institute of Technology Palakkad',\n",
       "       'Indian Institute of Technology Ropar',\n",
       "       'Indian Institute of Technology Tirupati',\n",
       "       'Indian Institute of Technology Bhilai',\n",
       "       'Indian Institute of Technology Goa'], dtype=object)"
      ]
     },
     "execution_count": 6,
     "metadata": {},
     "output_type": "execute_result"
    }
   ],
   "source": [
    "df[\"Institute\"].unique()"
   ]
  },
  {
   "cell_type": "code",
   "execution_count": 8,
   "id": "ea0b1ce2",
   "metadata": {},
   "outputs": [
    {
     "data": {
      "text/plain": [
       "array(['OPEN', 'OPEN (PwD)', 'EWS', 'OBC-NCL', 'OBC-NCL (PwD)', 'SC',\n",
       "       'ST', 'SC (PwD)', 'EWS (PwD)', 'ST (PwD)'], dtype=object)"
      ]
     },
     "execution_count": 8,
     "metadata": {},
     "output_type": "execute_result"
    }
   ],
   "source": [
    "df[\"Seat Type\"].unique()"
   ]
  },
  {
   "cell_type": "code",
   "execution_count": 22,
   "id": "fdaec0a8",
   "metadata": {},
   "outputs": [],
   "source": [
    "# Institute"
   ]
  },
  {
   "cell_type": "code",
   "execution_count": 23,
   "id": "44960f27",
   "metadata": {},
   "outputs": [
    {
     "data": {
      "text/plain": [
       "array([ 4, 14, 15, 16,  1, 19,  0,  7, 10, 13, 17,  9,  6,  5,  3, 11, 12,\n",
       "       18, 20, 21,  2,  8])"
      ]
     },
     "execution_count": 23,
     "metadata": {},
     "output_type": "execute_result"
    }
   ],
   "source": [
    "le = LabelEncoder()\n",
    "df['Institute'] = le.fit_transform(df['Institute'])\n",
    "df['Institute'].unique()"
   ]
  },
  {
   "cell_type": "code",
   "execution_count": 7,
   "id": "f231d0db",
   "metadata": {},
   "outputs": [],
   "source": [
    "# Quota"
   ]
  },
  {
   "cell_type": "code",
   "execution_count": 25,
   "id": "36ad4c13",
   "metadata": {},
   "outputs": [
    {
     "data": {
      "text/plain": [
       "Institute        int32\n",
       "Quota           object\n",
       "Seat Type       object\n",
       "Gender          object\n",
       "Opening          int64\n",
       "Closing          int64\n",
       "Round            int64\n",
       "Year             int64\n",
       "Duration        object\n",
       "Degree          object\n",
       "Branch          object\n",
       "Avg_ranking    float64\n",
       "dtype: object"
      ]
     },
     "execution_count": 25,
     "metadata": {},
     "output_type": "execute_result"
    }
   ],
   "source": [
    "df.dtypes"
   ]
  },
  {
   "cell_type": "code",
   "execution_count": 26,
   "id": "1ebe8732",
   "metadata": {},
   "outputs": [
    {
     "data": {
      "text/plain": [
       "array([0])"
      ]
     },
     "execution_count": 26,
     "metadata": {},
     "output_type": "execute_result"
    }
   ],
   "source": [
    "le = LabelEncoder()\n",
    "df['Quota'] = le.fit_transform(df['Quota'])\n",
    "df['Quota'].unique()"
   ]
  },
  {
   "cell_type": "code",
   "execution_count": 27,
   "id": "c70124d3",
   "metadata": {},
   "outputs": [
    {
     "data": {
      "text/plain": [
       "array([4, 5, 0, 2, 3, 6, 8, 7, 1, 9])"
      ]
     },
     "execution_count": 27,
     "metadata": {},
     "output_type": "execute_result"
    }
   ],
   "source": [
    "le = LabelEncoder()\n",
    "df['Seat Type'] = le.fit_transform(df['Seat Type'])\n",
    "df['Seat Type'].unique()"
   ]
  },
  {
   "cell_type": "code",
   "execution_count": 28,
   "id": "11210490",
   "metadata": {},
   "outputs": [
    {
     "data": {
      "text/plain": [
       "array([1, 0])"
      ]
     },
     "execution_count": 28,
     "metadata": {},
     "output_type": "execute_result"
    }
   ],
   "source": [
    "le = LabelEncoder()\n",
    "df['Gender'] = le.fit_transform(df['Gender'])\n",
    "df['Gender'].unique()"
   ]
  },
  {
   "cell_type": "code",
   "execution_count": 29,
   "id": "d1504c6c",
   "metadata": {},
   "outputs": [
    {
     "data": {
      "text/plain": [
       "array([0, 1, 2])"
      ]
     },
     "execution_count": 29,
     "metadata": {},
     "output_type": "execute_result"
    }
   ],
   "source": [
    "le = LabelEncoder()\n",
    "df['Duration'] = le.fit_transform(df['Duration'])\n",
    "df['Duration'].unique()"
   ]
  },
  {
   "cell_type": "code",
   "execution_count": 30,
   "id": "d8ca23d3",
   "metadata": {},
   "outputs": [
    {
     "data": {
      "text/plain": [
       "array([5, 0, 1, 4, 3, 2, 6])"
      ]
     },
     "execution_count": 30,
     "metadata": {},
     "output_type": "execute_result"
    }
   ],
   "source": [
    "le = LabelEncoder()\n",
    "df['Degree'] = le.fit_transform(df['Degree'])\n",
    "df['Degree'].unique()"
   ]
  },
  {
   "cell_type": "code",
   "execution_count": 31,
   "id": "1f432384",
   "metadata": {},
   "outputs": [
    {
     "data": {
      "text/plain": [
       "array([ 0,  1,  2,  3,  4,  5,  6,  7,  8, 10, 11, 13, 14, 15, 16, 17, 29,\n",
       "        9, 18, 21, 12, 19, 20, 22, 23, 28, 24, 27, 25, 26, 30, 31, 32, 33,\n",
       "       40, 34, 35, 36, 37, 38, 39, 42, 43, 44, 41, 45, 49, 46, 47, 48, 50,\n",
       "       51, 52, 53, 55, 56, 54, 57, 58, 59, 60, 62, 63, 61, 64, 65, 66, 75,\n",
       "       67, 68, 69, 70, 71, 74, 72, 73, 77, 76, 78, 79, 80, 81, 82, 83, 84,\n",
       "       85, 86, 87])"
      ]
     },
     "execution_count": 31,
     "metadata": {},
     "output_type": "execute_result"
    }
   ],
   "source": [
    "le = LabelEncoder()\n",
    "df['Branch'] = le.fit_transform(df['Branch'])\n",
    "df['Branch'].unique()"
   ]
  },
  {
   "cell_type": "code",
   "execution_count": 32,
   "id": "7f5182d9",
   "metadata": {},
   "outputs": [
    {
     "data": {
      "text/html": [
       "<div>\n",
       "<style scoped>\n",
       "    .dataframe tbody tr th:only-of-type {\n",
       "        vertical-align: middle;\n",
       "    }\n",
       "\n",
       "    .dataframe tbody tr th {\n",
       "        vertical-align: top;\n",
       "    }\n",
       "\n",
       "    .dataframe thead th {\n",
       "        text-align: right;\n",
       "    }\n",
       "</style>\n",
       "<table border=\"1\" class=\"dataframe\">\n",
       "  <thead>\n",
       "    <tr style=\"text-align: right;\">\n",
       "      <th></th>\n",
       "      <th>Institute</th>\n",
       "      <th>Quota</th>\n",
       "      <th>Seat Type</th>\n",
       "      <th>Gender</th>\n",
       "      <th>Opening</th>\n",
       "      <th>Closing</th>\n",
       "      <th>Round</th>\n",
       "      <th>Year</th>\n",
       "      <th>Duration</th>\n",
       "      <th>Degree</th>\n",
       "      <th>Branch</th>\n",
       "      <th>Avg_ranking</th>\n",
       "    </tr>\n",
       "  </thead>\n",
       "  <tbody>\n",
       "    <tr>\n",
       "      <th>0</th>\n",
       "      <td>4</td>\n",
       "      <td>0</td>\n",
       "      <td>4</td>\n",
       "      <td>1</td>\n",
       "      <td>772</td>\n",
       "      <td>2568</td>\n",
       "      <td>1</td>\n",
       "      <td>2023</td>\n",
       "      <td>0</td>\n",
       "      <td>5</td>\n",
       "      <td>0</td>\n",
       "      <td>4420.0</td>\n",
       "    </tr>\n",
       "    <tr>\n",
       "      <th>1</th>\n",
       "      <td>4</td>\n",
       "      <td>0</td>\n",
       "      <td>4</td>\n",
       "      <td>0</td>\n",
       "      <td>2697</td>\n",
       "      <td>4628</td>\n",
       "      <td>1</td>\n",
       "      <td>2023</td>\n",
       "      <td>0</td>\n",
       "      <td>5</td>\n",
       "      <td>0</td>\n",
       "      <td>8705.0</td>\n",
       "    </tr>\n",
       "    <tr>\n",
       "      <th>2</th>\n",
       "      <td>4</td>\n",
       "      <td>0</td>\n",
       "      <td>5</td>\n",
       "      <td>1</td>\n",
       "      <td>49</td>\n",
       "      <td>49</td>\n",
       "      <td>1</td>\n",
       "      <td>2023</td>\n",
       "      <td>0</td>\n",
       "      <td>5</td>\n",
       "      <td>0</td>\n",
       "      <td>127.0</td>\n",
       "    </tr>\n",
       "    <tr>\n",
       "      <th>3</th>\n",
       "      <td>4</td>\n",
       "      <td>0</td>\n",
       "      <td>5</td>\n",
       "      <td>0</td>\n",
       "      <td>104</td>\n",
       "      <td>104</td>\n",
       "      <td>1</td>\n",
       "      <td>2023</td>\n",
       "      <td>0</td>\n",
       "      <td>5</td>\n",
       "      <td>0</td>\n",
       "      <td>771.5</td>\n",
       "    </tr>\n",
       "    <tr>\n",
       "      <th>4</th>\n",
       "      <td>4</td>\n",
       "      <td>0</td>\n",
       "      <td>0</td>\n",
       "      <td>1</td>\n",
       "      <td>449</td>\n",
       "      <td>614</td>\n",
       "      <td>1</td>\n",
       "      <td>2023</td>\n",
       "      <td>0</td>\n",
       "      <td>5</td>\n",
       "      <td>0</td>\n",
       "      <td>1808.0</td>\n",
       "    </tr>\n",
       "    <tr>\n",
       "      <th>...</th>\n",
       "      <td>...</td>\n",
       "      <td>...</td>\n",
       "      <td>...</td>\n",
       "      <td>...</td>\n",
       "      <td>...</td>\n",
       "      <td>...</td>\n",
       "      <td>...</td>\n",
       "      <td>...</td>\n",
       "      <td>...</td>\n",
       "      <td>...</td>\n",
       "      <td>...</td>\n",
       "      <td>...</td>\n",
       "    </tr>\n",
       "    <tr>\n",
       "      <th>2673</th>\n",
       "      <td>5</td>\n",
       "      <td>0</td>\n",
       "      <td>2</td>\n",
       "      <td>0</td>\n",
       "      <td>5742</td>\n",
       "      <td>6280</td>\n",
       "      <td>1</td>\n",
       "      <td>2023</td>\n",
       "      <td>0</td>\n",
       "      <td>5</td>\n",
       "      <td>87</td>\n",
       "      <td>7761.0</td>\n",
       "    </tr>\n",
       "    <tr>\n",
       "      <th>2674</th>\n",
       "      <td>5</td>\n",
       "      <td>0</td>\n",
       "      <td>6</td>\n",
       "      <td>1</td>\n",
       "      <td>1460</td>\n",
       "      <td>1771</td>\n",
       "      <td>1</td>\n",
       "      <td>2023</td>\n",
       "      <td>0</td>\n",
       "      <td>5</td>\n",
       "      <td>87</td>\n",
       "      <td>1659.5</td>\n",
       "    </tr>\n",
       "    <tr>\n",
       "      <th>2675</th>\n",
       "      <td>5</td>\n",
       "      <td>0</td>\n",
       "      <td>6</td>\n",
       "      <td>0</td>\n",
       "      <td>2722</td>\n",
       "      <td>2769</td>\n",
       "      <td>1</td>\n",
       "      <td>2023</td>\n",
       "      <td>0</td>\n",
       "      <td>5</td>\n",
       "      <td>87</td>\n",
       "      <td>2578.0</td>\n",
       "    </tr>\n",
       "    <tr>\n",
       "      <th>2676</th>\n",
       "      <td>5</td>\n",
       "      <td>0</td>\n",
       "      <td>8</td>\n",
       "      <td>1</td>\n",
       "      <td>840</td>\n",
       "      <td>984</td>\n",
       "      <td>1</td>\n",
       "      <td>2023</td>\n",
       "      <td>0</td>\n",
       "      <td>5</td>\n",
       "      <td>87</td>\n",
       "      <td>1220.0</td>\n",
       "    </tr>\n",
       "    <tr>\n",
       "      <th>2677</th>\n",
       "      <td>5</td>\n",
       "      <td>0</td>\n",
       "      <td>8</td>\n",
       "      <td>0</td>\n",
       "      <td>1578</td>\n",
       "      <td>1578</td>\n",
       "      <td>1</td>\n",
       "      <td>2023</td>\n",
       "      <td>0</td>\n",
       "      <td>5</td>\n",
       "      <td>87</td>\n",
       "      <td>4645.5</td>\n",
       "    </tr>\n",
       "  </tbody>\n",
       "</table>\n",
       "<p>2678 rows × 12 columns</p>\n",
       "</div>"
      ],
      "text/plain": [
       "      Institute  Quota  Seat Type  Gender  Opening  Closing  Round  Year  \\\n",
       "0             4      0          4       1      772     2568      1  2023   \n",
       "1             4      0          4       0     2697     4628      1  2023   \n",
       "2             4      0          5       1       49       49      1  2023   \n",
       "3             4      0          5       0      104      104      1  2023   \n",
       "4             4      0          0       1      449      614      1  2023   \n",
       "...         ...    ...        ...     ...      ...      ...    ...   ...   \n",
       "2673          5      0          2       0     5742     6280      1  2023   \n",
       "2674          5      0          6       1     1460     1771      1  2023   \n",
       "2675          5      0          6       0     2722     2769      1  2023   \n",
       "2676          5      0          8       1      840      984      1  2023   \n",
       "2677          5      0          8       0     1578     1578      1  2023   \n",
       "\n",
       "      Duration  Degree  Branch  Avg_ranking  \n",
       "0            0       5       0       4420.0  \n",
       "1            0       5       0       8705.0  \n",
       "2            0       5       0        127.0  \n",
       "3            0       5       0        771.5  \n",
       "4            0       5       0       1808.0  \n",
       "...        ...     ...     ...          ...  \n",
       "2673         0       5      87       7761.0  \n",
       "2674         0       5      87       1659.5  \n",
       "2675         0       5      87       2578.0  \n",
       "2676         0       5      87       1220.0  \n",
       "2677         0       5      87       4645.5  \n",
       "\n",
       "[2678 rows x 12 columns]"
      ]
     },
     "execution_count": 32,
     "metadata": {},
     "output_type": "execute_result"
    }
   ],
   "source": [
    "df"
   ]
  },
  {
   "cell_type": "code",
   "execution_count": 33,
   "id": "806d559b",
   "metadata": {},
   "outputs": [],
   "source": [
    "df.to_csv(\"test\")"
   ]
  },
  {
   "cell_type": "code",
   "execution_count": 34,
   "id": "4112a2a5",
   "metadata": {},
   "outputs": [
    {
     "data": {
      "text/html": [
       "<div>\n",
       "<style scoped>\n",
       "    .dataframe tbody tr th:only-of-type {\n",
       "        vertical-align: middle;\n",
       "    }\n",
       "\n",
       "    .dataframe tbody tr th {\n",
       "        vertical-align: top;\n",
       "    }\n",
       "\n",
       "    .dataframe thead th {\n",
       "        text-align: right;\n",
       "    }\n",
       "</style>\n",
       "<table border=\"1\" class=\"dataframe\">\n",
       "  <thead>\n",
       "    <tr style=\"text-align: right;\">\n",
       "      <th></th>\n",
       "      <th>Institute</th>\n",
       "      <th>Quota</th>\n",
       "      <th>Seat Type</th>\n",
       "      <th>Gender</th>\n",
       "      <th>Opening</th>\n",
       "      <th>Closing</th>\n",
       "      <th>Round</th>\n",
       "      <th>Year</th>\n",
       "      <th>Duration</th>\n",
       "      <th>Degree</th>\n",
       "      <th>Branch</th>\n",
       "      <th>Avg_ranking</th>\n",
       "    </tr>\n",
       "  </thead>\n",
       "  <tbody>\n",
       "    <tr>\n",
       "      <th>0</th>\n",
       "      <td>4</td>\n",
       "      <td>0</td>\n",
       "      <td>4</td>\n",
       "      <td>1</td>\n",
       "      <td>772</td>\n",
       "      <td>2568</td>\n",
       "      <td>1</td>\n",
       "      <td>2023</td>\n",
       "      <td>0</td>\n",
       "      <td>5</td>\n",
       "      <td>0</td>\n",
       "      <td>4420.0</td>\n",
       "    </tr>\n",
       "    <tr>\n",
       "      <th>1</th>\n",
       "      <td>4</td>\n",
       "      <td>0</td>\n",
       "      <td>4</td>\n",
       "      <td>0</td>\n",
       "      <td>2697</td>\n",
       "      <td>4628</td>\n",
       "      <td>1</td>\n",
       "      <td>2023</td>\n",
       "      <td>0</td>\n",
       "      <td>5</td>\n",
       "      <td>0</td>\n",
       "      <td>8705.0</td>\n",
       "    </tr>\n",
       "    <tr>\n",
       "      <th>2</th>\n",
       "      <td>4</td>\n",
       "      <td>0</td>\n",
       "      <td>5</td>\n",
       "      <td>1</td>\n",
       "      <td>49</td>\n",
       "      <td>49</td>\n",
       "      <td>1</td>\n",
       "      <td>2023</td>\n",
       "      <td>0</td>\n",
       "      <td>5</td>\n",
       "      <td>0</td>\n",
       "      <td>127.0</td>\n",
       "    </tr>\n",
       "    <tr>\n",
       "      <th>3</th>\n",
       "      <td>4</td>\n",
       "      <td>0</td>\n",
       "      <td>5</td>\n",
       "      <td>0</td>\n",
       "      <td>104</td>\n",
       "      <td>104</td>\n",
       "      <td>1</td>\n",
       "      <td>2023</td>\n",
       "      <td>0</td>\n",
       "      <td>5</td>\n",
       "      <td>0</td>\n",
       "      <td>771.5</td>\n",
       "    </tr>\n",
       "    <tr>\n",
       "      <th>4</th>\n",
       "      <td>4</td>\n",
       "      <td>0</td>\n",
       "      <td>0</td>\n",
       "      <td>1</td>\n",
       "      <td>449</td>\n",
       "      <td>614</td>\n",
       "      <td>1</td>\n",
       "      <td>2023</td>\n",
       "      <td>0</td>\n",
       "      <td>5</td>\n",
       "      <td>0</td>\n",
       "      <td>1808.0</td>\n",
       "    </tr>\n",
       "    <tr>\n",
       "      <th>...</th>\n",
       "      <td>...</td>\n",
       "      <td>...</td>\n",
       "      <td>...</td>\n",
       "      <td>...</td>\n",
       "      <td>...</td>\n",
       "      <td>...</td>\n",
       "      <td>...</td>\n",
       "      <td>...</td>\n",
       "      <td>...</td>\n",
       "      <td>...</td>\n",
       "      <td>...</td>\n",
       "      <td>...</td>\n",
       "    </tr>\n",
       "    <tr>\n",
       "      <th>2673</th>\n",
       "      <td>5</td>\n",
       "      <td>0</td>\n",
       "      <td>2</td>\n",
       "      <td>0</td>\n",
       "      <td>5742</td>\n",
       "      <td>6280</td>\n",
       "      <td>1</td>\n",
       "      <td>2023</td>\n",
       "      <td>0</td>\n",
       "      <td>5</td>\n",
       "      <td>87</td>\n",
       "      <td>7761.0</td>\n",
       "    </tr>\n",
       "    <tr>\n",
       "      <th>2674</th>\n",
       "      <td>5</td>\n",
       "      <td>0</td>\n",
       "      <td>6</td>\n",
       "      <td>1</td>\n",
       "      <td>1460</td>\n",
       "      <td>1771</td>\n",
       "      <td>1</td>\n",
       "      <td>2023</td>\n",
       "      <td>0</td>\n",
       "      <td>5</td>\n",
       "      <td>87</td>\n",
       "      <td>1659.5</td>\n",
       "    </tr>\n",
       "    <tr>\n",
       "      <th>2675</th>\n",
       "      <td>5</td>\n",
       "      <td>0</td>\n",
       "      <td>6</td>\n",
       "      <td>0</td>\n",
       "      <td>2722</td>\n",
       "      <td>2769</td>\n",
       "      <td>1</td>\n",
       "      <td>2023</td>\n",
       "      <td>0</td>\n",
       "      <td>5</td>\n",
       "      <td>87</td>\n",
       "      <td>2578.0</td>\n",
       "    </tr>\n",
       "    <tr>\n",
       "      <th>2676</th>\n",
       "      <td>5</td>\n",
       "      <td>0</td>\n",
       "      <td>8</td>\n",
       "      <td>1</td>\n",
       "      <td>840</td>\n",
       "      <td>984</td>\n",
       "      <td>1</td>\n",
       "      <td>2023</td>\n",
       "      <td>0</td>\n",
       "      <td>5</td>\n",
       "      <td>87</td>\n",
       "      <td>1220.0</td>\n",
       "    </tr>\n",
       "    <tr>\n",
       "      <th>2677</th>\n",
       "      <td>5</td>\n",
       "      <td>0</td>\n",
       "      <td>8</td>\n",
       "      <td>0</td>\n",
       "      <td>1578</td>\n",
       "      <td>1578</td>\n",
       "      <td>1</td>\n",
       "      <td>2023</td>\n",
       "      <td>0</td>\n",
       "      <td>5</td>\n",
       "      <td>87</td>\n",
       "      <td>4645.5</td>\n",
       "    </tr>\n",
       "  </tbody>\n",
       "</table>\n",
       "<p>2678 rows × 12 columns</p>\n",
       "</div>"
      ],
      "text/plain": [
       "      Institute  Quota  Seat Type  Gender  Opening  Closing  Round  Year  \\\n",
       "0             4      0          4       1      772     2568      1  2023   \n",
       "1             4      0          4       0     2697     4628      1  2023   \n",
       "2             4      0          5       1       49       49      1  2023   \n",
       "3             4      0          5       0      104      104      1  2023   \n",
       "4             4      0          0       1      449      614      1  2023   \n",
       "...         ...    ...        ...     ...      ...      ...    ...   ...   \n",
       "2673          5      0          2       0     5742     6280      1  2023   \n",
       "2674          5      0          6       1     1460     1771      1  2023   \n",
       "2675          5      0          6       0     2722     2769      1  2023   \n",
       "2676          5      0          8       1      840      984      1  2023   \n",
       "2677          5      0          8       0     1578     1578      1  2023   \n",
       "\n",
       "      Duration  Degree  Branch  Avg_ranking  \n",
       "0            0       5       0       4420.0  \n",
       "1            0       5       0       8705.0  \n",
       "2            0       5       0        127.0  \n",
       "3            0       5       0        771.5  \n",
       "4            0       5       0       1808.0  \n",
       "...        ...     ...     ...          ...  \n",
       "2673         0       5      87       7761.0  \n",
       "2674         0       5      87       1659.5  \n",
       "2675         0       5      87       2578.0  \n",
       "2676         0       5      87       1220.0  \n",
       "2677         0       5      87       4645.5  \n",
       "\n",
       "[2678 rows x 12 columns]"
      ]
     },
     "execution_count": 34,
     "metadata": {},
     "output_type": "execute_result"
    }
   ],
   "source": [
    "df"
   ]
  },
  {
   "cell_type": "code",
   "execution_count": null,
   "id": "3ca9ff64",
   "metadata": {},
   "outputs": [],
   "source": []
  },
  {
   "cell_type": "code",
   "execution_count": null,
   "id": "076b582e",
   "metadata": {},
   "outputs": [],
   "source": []
  },
  {
   "cell_type": "code",
   "execution_count": null,
   "id": "b77585a2",
   "metadata": {},
   "outputs": [],
   "source": []
  },
  {
   "cell_type": "code",
   "execution_count": null,
   "id": "6fbe4a0c",
   "metadata": {},
   "outputs": [],
   "source": []
  },
  {
   "cell_type": "code",
   "execution_count": null,
   "id": "041449fa",
   "metadata": {},
   "outputs": [],
   "source": []
  },
  {
   "cell_type": "code",
   "execution_count": null,
   "id": "9eec2c7d",
   "metadata": {},
   "outputs": [],
   "source": []
  }
 ],
 "metadata": {
  "kernelspec": {
   "display_name": "Python 3 (ipykernel)",
   "language": "python",
   "name": "python3"
  },
  "language_info": {
   "codemirror_mode": {
    "name": "ipython",
    "version": 3
   },
   "file_extension": ".py",
   "mimetype": "text/x-python",
   "name": "python",
   "nbconvert_exporter": "python",
   "pygments_lexer": "ipython3",
   "version": "3.10.9"
  }
 },
 "nbformat": 4,
 "nbformat_minor": 5
}
