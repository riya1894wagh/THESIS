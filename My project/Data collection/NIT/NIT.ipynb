{
 "cells": [
  {
   "cell_type": "code",
   "execution_count": 1,
   "id": "f28fdc2e",
   "metadata": {},
   "outputs": [],
   "source": [
    "import pandas as pd"
   ]
  },
  {
   "cell_type": "code",
   "execution_count": 2,
   "id": "a3d783de",
   "metadata": {},
   "outputs": [],
   "source": [
    "df2 = pd.read_csv(\"NIT_2018\")"
   ]
  },
  {
   "cell_type": "code",
   "execution_count": 3,
   "id": "2edc30ee",
   "metadata": {},
   "outputs": [],
   "source": [
    "df3 = pd.read_csv(\"NIT_2019\")"
   ]
  },
  {
   "cell_type": "code",
   "execution_count": 4,
   "id": "6b1f02b6",
   "metadata": {},
   "outputs": [],
   "source": [
    "df4 = pd.read_csv(\"NIT_2020\")"
   ]
  },
  {
   "cell_type": "code",
   "execution_count": 5,
   "id": "6cd979f9",
   "metadata": {},
   "outputs": [],
   "source": [
    "df5 = pd.read_csv(\"NIT_2021\")"
   ]
  },
  {
   "cell_type": "code",
   "execution_count": 6,
   "id": "aab5cc11",
   "metadata": {},
   "outputs": [],
   "source": [
    "df6 = pd.read_csv(\"NIT_2022\")"
   ]
  },
  {
   "cell_type": "code",
   "execution_count": 8,
   "id": "2208c02d",
   "metadata": {},
   "outputs": [],
   "source": [
    "df_list = [ df2 , df3 , df4, df5, df6]"
   ]
  },
  {
   "cell_type": "code",
   "execution_count": 9,
   "id": "2ea8a095",
   "metadata": {},
   "outputs": [],
   "source": [
    "NIT = pd.concat(df_list , axis=0 , ignore_index=True)"
   ]
  },
  {
   "cell_type": "code",
   "execution_count": 11,
   "id": "5a343c5b",
   "metadata": {},
   "outputs": [],
   "source": [
    "NIT.to_csv(\"NIT_training\")"
   ]
  },
  {
   "cell_type": "code",
   "execution_count": 12,
   "id": "0b3879e1",
   "metadata": {},
   "outputs": [
    {
     "data": {
      "text/plain": [
       "(147603, 10)"
      ]
     },
     "execution_count": 12,
     "metadata": {},
     "output_type": "execute_result"
    }
   ],
   "source": [
    "NIT.shape"
   ]
  },
  {
   "cell_type": "code",
   "execution_count": null,
   "id": "e5bbc216",
   "metadata": {},
   "outputs": [],
   "source": []
  }
 ],
 "metadata": {
  "kernelspec": {
   "display_name": "Python 3 (ipykernel)",
   "language": "python",
   "name": "python3"
  },
  "language_info": {
   "codemirror_mode": {
    "name": "ipython",
    "version": 3
   },
   "file_extension": ".py",
   "mimetype": "text/x-python",
   "name": "python",
   "nbconvert_exporter": "python",
   "pygments_lexer": "ipython3",
   "version": "3.10.9"
  }
 },
 "nbformat": 4,
 "nbformat_minor": 5
}
