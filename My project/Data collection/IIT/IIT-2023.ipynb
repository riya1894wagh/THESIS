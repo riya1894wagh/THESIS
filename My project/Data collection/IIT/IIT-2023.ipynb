{
 "cells": [
  {
   "cell_type": "code",
   "execution_count": 1,
   "id": "e42bb4e9",
   "metadata": {},
   "outputs": [],
   "source": [
    "import pandas as pd"
   ]
  },
  {
   "cell_type": "code",
   "execution_count": 2,
   "id": "cb4304ef",
   "metadata": {},
   "outputs": [],
   "source": [
    "df = pd.read_excel(\"2023.xlsx\")"
   ]
  },
  {
   "cell_type": "code",
   "execution_count": 3,
   "id": "586cdb77",
   "metadata": {},
   "outputs": [
    {
     "data": {
      "text/html": [
       "<div>\n",
       "<style scoped>\n",
       "    .dataframe tbody tr th:only-of-type {\n",
       "        vertical-align: middle;\n",
       "    }\n",
       "\n",
       "    .dataframe tbody tr th {\n",
       "        vertical-align: top;\n",
       "    }\n",
       "\n",
       "    .dataframe thead th {\n",
       "        text-align: right;\n",
       "    }\n",
       "</style>\n",
       "<table border=\"1\" class=\"dataframe\">\n",
       "  <thead>\n",
       "    <tr style=\"text-align: right;\">\n",
       "      <th></th>\n",
       "      <th>Institute</th>\n",
       "      <th>Program</th>\n",
       "      <th>Quota</th>\n",
       "      <th>Seat Type</th>\n",
       "      <th>Gender</th>\n",
       "      <th>Opening</th>\n",
       "      <th>Closing</th>\n",
       "      <th>Round</th>\n",
       "    </tr>\n",
       "  </thead>\n",
       "  <tbody>\n",
       "    <tr>\n",
       "      <th>0</th>\n",
       "      <td>Indian Institute of Technology Bhubaneswar</td>\n",
       "      <td>Civil Engineering (4 Years, Bachelor of Techno...</td>\n",
       "      <td>AI</td>\n",
       "      <td>OPEN</td>\n",
       "      <td>Gender-Neutral</td>\n",
       "      <td>9462</td>\n",
       "      <td>12911</td>\n",
       "      <td>1</td>\n",
       "    </tr>\n",
       "    <tr>\n",
       "      <th>1</th>\n",
       "      <td>Indian Institute of Technology Bhubaneswar</td>\n",
       "      <td>Civil Engineering (4 Years, Bachelor of Techno...</td>\n",
       "      <td>AI</td>\n",
       "      <td>OPEN</td>\n",
       "      <td>Female-only (including Supernumerary)</td>\n",
       "      <td>16218</td>\n",
       "      <td>19272</td>\n",
       "      <td>1</td>\n",
       "    </tr>\n",
       "    <tr>\n",
       "      <th>2</th>\n",
       "      <td>Indian Institute of Technology Bhubaneswar</td>\n",
       "      <td>Civil Engineering (4 Years, Bachelor of Techno...</td>\n",
       "      <td>AI</td>\n",
       "      <td>EWS</td>\n",
       "      <td>Gender-Neutral</td>\n",
       "      <td>1852</td>\n",
       "      <td>1977</td>\n",
       "      <td>1</td>\n",
       "    </tr>\n",
       "    <tr>\n",
       "      <th>3</th>\n",
       "      <td>Indian Institute of Technology Bhubaneswar</td>\n",
       "      <td>Civil Engineering (4 Years, Bachelor of Techno...</td>\n",
       "      <td>AI</td>\n",
       "      <td>EWS</td>\n",
       "      <td>Female-only (including Supernumerary)</td>\n",
       "      <td>3056</td>\n",
       "      <td>3056</td>\n",
       "      <td>1</td>\n",
       "    </tr>\n",
       "    <tr>\n",
       "      <th>4</th>\n",
       "      <td>Indian Institute of Technology Bhubaneswar</td>\n",
       "      <td>Civil Engineering (4 Years, Bachelor of Techno...</td>\n",
       "      <td>AI</td>\n",
       "      <td>OBC-NCL</td>\n",
       "      <td>Gender-Neutral</td>\n",
       "      <td>4014</td>\n",
       "      <td>4642</td>\n",
       "      <td>1</td>\n",
       "    </tr>\n",
       "    <tr>\n",
       "      <th>...</th>\n",
       "      <td>...</td>\n",
       "      <td>...</td>\n",
       "      <td>...</td>\n",
       "      <td>...</td>\n",
       "      <td>...</td>\n",
       "      <td>...</td>\n",
       "      <td>...</td>\n",
       "      <td>...</td>\n",
       "    </tr>\n",
       "    <tr>\n",
       "      <th>195</th>\n",
       "      <td>Indian Institute of Technology Bombay</td>\n",
       "      <td>Civil Engineering (4 Years, Bachelor of Techno...</td>\n",
       "      <td>AI</td>\n",
       "      <td>SC</td>\n",
       "      <td>Female-only (including Supernumerary)</td>\n",
       "      <td>1478</td>\n",
       "      <td>1796</td>\n",
       "      <td>1</td>\n",
       "    </tr>\n",
       "    <tr>\n",
       "      <th>196</th>\n",
       "      <td>Indian Institute of Technology Bombay</td>\n",
       "      <td>Civil Engineering (4 Years, Bachelor of Techno...</td>\n",
       "      <td>AI</td>\n",
       "      <td>ST</td>\n",
       "      <td>Gender-Neutral</td>\n",
       "      <td>217</td>\n",
       "      <td>335</td>\n",
       "      <td>1</td>\n",
       "    </tr>\n",
       "    <tr>\n",
       "      <th>197</th>\n",
       "      <td>Indian Institute of Technology Bombay</td>\n",
       "      <td>Civil Engineering (4 Years, Bachelor of Techno...</td>\n",
       "      <td>AI</td>\n",
       "      <td>ST</td>\n",
       "      <td>Female-only (including Supernumerary)</td>\n",
       "      <td>336</td>\n",
       "      <td>770</td>\n",
       "      <td>1</td>\n",
       "    </tr>\n",
       "    <tr>\n",
       "      <th>198</th>\n",
       "      <td>Indian Institute of Technology Bombay</td>\n",
       "      <td>Civil Engineering (4 Years, Bachelor of Techno...</td>\n",
       "      <td>AI</td>\n",
       "      <td>ST (PwD)</td>\n",
       "      <td>Gender-Neutral</td>\n",
       "      <td>8P</td>\n",
       "      <td>8P</td>\n",
       "      <td>1</td>\n",
       "    </tr>\n",
       "    <tr>\n",
       "      <th>199</th>\n",
       "      <td>Indian Institute of Technology Bombay</td>\n",
       "      <td>Computer Science and Engineering (4 Years, Bac...</td>\n",
       "      <td>AI</td>\n",
       "      <td>OPEN</td>\n",
       "      <td>Gender-Neutral</td>\n",
       "      <td>1</td>\n",
       "      <td>66</td>\n",
       "      <td>1</td>\n",
       "    </tr>\n",
       "  </tbody>\n",
       "</table>\n",
       "<p>200 rows × 8 columns</p>\n",
       "</div>"
      ],
      "text/plain": [
       "                                      Institute  \\\n",
       "0    Indian Institute of Technology Bhubaneswar   \n",
       "1    Indian Institute of Technology Bhubaneswar   \n",
       "2    Indian Institute of Technology Bhubaneswar   \n",
       "3    Indian Institute of Technology Bhubaneswar   \n",
       "4    Indian Institute of Technology Bhubaneswar   \n",
       "..                                          ...   \n",
       "195       Indian Institute of Technology Bombay   \n",
       "196       Indian Institute of Technology Bombay   \n",
       "197       Indian Institute of Technology Bombay   \n",
       "198       Indian Institute of Technology Bombay   \n",
       "199       Indian Institute of Technology Bombay   \n",
       "\n",
       "                                               Program Quota Seat Type  \\\n",
       "0    Civil Engineering (4 Years, Bachelor of Techno...    AI      OPEN   \n",
       "1    Civil Engineering (4 Years, Bachelor of Techno...    AI      OPEN   \n",
       "2    Civil Engineering (4 Years, Bachelor of Techno...    AI       EWS   \n",
       "3    Civil Engineering (4 Years, Bachelor of Techno...    AI       EWS   \n",
       "4    Civil Engineering (4 Years, Bachelor of Techno...    AI   OBC-NCL   \n",
       "..                                                 ...   ...       ...   \n",
       "195  Civil Engineering (4 Years, Bachelor of Techno...    AI        SC   \n",
       "196  Civil Engineering (4 Years, Bachelor of Techno...    AI        ST   \n",
       "197  Civil Engineering (4 Years, Bachelor of Techno...    AI        ST   \n",
       "198  Civil Engineering (4 Years, Bachelor of Techno...    AI  ST (PwD)   \n",
       "199  Computer Science and Engineering (4 Years, Bac...    AI      OPEN   \n",
       "\n",
       "                                    Gender Opening Closing  Round  \n",
       "0                           Gender-Neutral    9462   12911      1  \n",
       "1    Female-only (including Supernumerary)   16218   19272      1  \n",
       "2                           Gender-Neutral    1852    1977      1  \n",
       "3    Female-only (including Supernumerary)    3056    3056      1  \n",
       "4                           Gender-Neutral    4014    4642      1  \n",
       "..                                     ...     ...     ...    ...  \n",
       "195  Female-only (including Supernumerary)    1478    1796      1  \n",
       "196                         Gender-Neutral     217     335      1  \n",
       "197  Female-only (including Supernumerary)     336     770      1  \n",
       "198                         Gender-Neutral      8P      8P      1  \n",
       "199                         Gender-Neutral       1      66      1  \n",
       "\n",
       "[200 rows x 8 columns]"
      ]
     },
     "execution_count": 3,
     "metadata": {},
     "output_type": "execute_result"
    }
   ],
   "source": [
    "df.head(200)"
   ]
  },
  {
   "cell_type": "code",
   "execution_count": 4,
   "id": "c3b61160",
   "metadata": {},
   "outputs": [],
   "source": [
    "IIT_Bhubaneswar = df[df[\"Institute\"] == \"Indian Institute of Technology Bhubaneswar\"]"
   ]
  },
  {
   "cell_type": "code",
   "execution_count": 5,
   "id": "b05351b7",
   "metadata": {},
   "outputs": [],
   "source": [
    "IIT_Bombay = df[df[\"Institute\"] == \"Indian Institute of Technology Bombay\"]"
   ]
  },
  {
   "cell_type": "code",
   "execution_count": 6,
   "id": "b642f0ec",
   "metadata": {},
   "outputs": [],
   "source": [
    "IIT_Mandi = df[df[\"Institute\"] == \"Indian Institute of Technology Mandi\"]"
   ]
  },
  {
   "cell_type": "code",
   "execution_count": 7,
   "id": "1ff74341",
   "metadata": {},
   "outputs": [],
   "source": [
    "IIT_Delhi = df[df[\"Institute\"] == \"Indian Institute of Technology Delhi\"]"
   ]
  },
  {
   "cell_type": "code",
   "execution_count": 8,
   "id": "ae31735e",
   "metadata": {},
   "outputs": [],
   "source": [
    "IIT_Indore = df[df[\"Institute\"] == \"Indian Institute of Technology Indore\"]"
   ]
  },
  {
   "cell_type": "code",
   "execution_count": 9,
   "id": "9130a070",
   "metadata": {},
   "outputs": [],
   "source": [
    "IIT_Kharagpur = df[df[\"Institute\"] == \"Indian Institute of Technology Kharagpur\"]"
   ]
  },
  {
   "cell_type": "code",
   "execution_count": 10,
   "id": "41a74b72",
   "metadata": {},
   "outputs": [],
   "source": [
    "IIT_Hyderabad = df[df[\"Institute\"] == \"Indian Institute of Technology Hyderabad\"]"
   ]
  },
  {
   "cell_type": "code",
   "execution_count": 11,
   "id": "937c6533",
   "metadata": {},
   "outputs": [],
   "source": [
    "IIT_Jodhpur = df[df[\"Institute\"] == \"Indian Institute of Technology Jodhpur\"]"
   ]
  },
  {
   "cell_type": "code",
   "execution_count": 12,
   "id": "e177000a",
   "metadata": {},
   "outputs": [],
   "source": [
    "IIT_Kanpur = df[df[\"Institute\"] == \"Indian Institute of Technology Kanpur\"]"
   ]
  },
  {
   "cell_type": "code",
   "execution_count": 13,
   "id": "106a08dc",
   "metadata": {},
   "outputs": [],
   "source": [
    "IIT_Madras = df[df[\"Institute\"] == \"Indian Institute of Technology Madras\"]"
   ]
  },
  {
   "cell_type": "code",
   "execution_count": 14,
   "id": "859372cf",
   "metadata": {},
   "outputs": [],
   "source": [
    "IIT_Gandhinagar = df[df[\"Institute\"] == \"Indian Institute of Technology Gandhinagar\"]"
   ]
  },
  {
   "cell_type": "code",
   "execution_count": 15,
   "id": "8c08d037",
   "metadata": {},
   "outputs": [],
   "source": [
    "IIT_Patna = df[df[\"Institute\"] == \"Indian Institute of Technology patna\"]"
   ]
  },
  {
   "cell_type": "code",
   "execution_count": 16,
   "id": "8f80e5ef",
   "metadata": {},
   "outputs": [],
   "source": [
    "IIT_Roorkee = df[df[\"Institute\"] == \"Indian Institute of Technology Roorkee\"]"
   ]
  },
  {
   "cell_type": "code",
   "execution_count": 17,
   "id": "ccfbd3a8",
   "metadata": {},
   "outputs": [],
   "source": [
    "IIT_Dhanbad = df[df[\"Institute\"] == \"Indian Institute of Technology (ISM) Dhanbad\"]"
   ]
  },
  {
   "cell_type": "code",
   "execution_count": 18,
   "id": "af8f5715",
   "metadata": {},
   "outputs": [],
   "source": [
    "IIT_Ropar = df[df[\"Institute\"] == \"Indian Institute of Technology Ropar\"]"
   ]
  },
  {
   "cell_type": "code",
   "execution_count": 19,
   "id": "aca07252",
   "metadata": {},
   "outputs": [],
   "source": [
    "IIT_Varanasi = df[df[\"Institute\"] == \"Indian Institute of Technology (BHU) Varanasi\"]"
   ]
  },
  {
   "cell_type": "code",
   "execution_count": 20,
   "id": "b67d204a",
   "metadata": {},
   "outputs": [],
   "source": [
    "IIT_Guwahati = df[df[\"Institute\"] == \"Indian Institute of Technology Guwahati\"]"
   ]
  },
  {
   "cell_type": "code",
   "execution_count": 21,
   "id": "7f709b99",
   "metadata": {},
   "outputs": [],
   "source": [
    "IIT_Bhilai = df[df[\"Institute\"] == \"Indian Institute of Technology Bhilai\"]"
   ]
  },
  {
   "cell_type": "code",
   "execution_count": 22,
   "id": "5feea001",
   "metadata": {},
   "outputs": [],
   "source": [
    "IIT_Goa = df[df[\"Institute\"] == \"Indian Institute of Technology Goa\"]"
   ]
  },
  {
   "cell_type": "code",
   "execution_count": 23,
   "id": "d3bacd7a",
   "metadata": {},
   "outputs": [],
   "source": [
    "IIT_Palakkad = df[df[\"Institute\"] == \"Indian Institute of Technology Palakkad\"]"
   ]
  },
  {
   "cell_type": "code",
   "execution_count": 24,
   "id": "b282b4ac",
   "metadata": {},
   "outputs": [],
   "source": [
    "IIT_Tirupati = df[df[\"Institute\"] == \"Indian Institute of Technology Tirupati\"]"
   ]
  },
  {
   "cell_type": "code",
   "execution_count": 25,
   "id": "cbb3f25c",
   "metadata": {},
   "outputs": [],
   "source": [
    "IIT_Jammu = df[df[\"Institute\"] == \"Indian Institute of Technology Jammu\"]"
   ]
  },
  {
   "cell_type": "code",
   "execution_count": 26,
   "id": "a01afbfc",
   "metadata": {},
   "outputs": [],
   "source": [
    "IIT_Dharwad= df[df[\"Institute\"] == \"Indian Institute of Technology Dharwad\"]"
   ]
  },
  {
   "cell_type": "code",
   "execution_count": 27,
   "id": "076ead04",
   "metadata": {},
   "outputs": [],
   "source": [
    "df_list = [IIT_Bhilai,IIT_Bhubaneswar,IIT_Bombay,IIT_Delhi,IIT_Dhanbad,IIT_Dharwad,IIT_Gandhinagar,IIT_Goa,IIT_Guwahati,IIT_Hyderabad,\n",
    "IIT_Indore,IIT_Jammu,IIT_Jodhpur,IIT_Kanpur,IIT_Kharagpur,IIT_Madras,IIT_Madras,IIT_Mandi,IIT_Palakkad,IIT_Patna,IIT_Roorkee,\n",
    "IIT_Ropar,IIT_Tirupati,IIT_Varanasi]"
   ]
  },
  {
   "cell_type": "code",
   "execution_count": 28,
   "id": "49699cd4",
   "metadata": {},
   "outputs": [],
   "source": [
    "IIT = pd.concat(df_list , axis=0 , ignore_index=True)"
   ]
  },
  {
   "cell_type": "code",
   "execution_count": 31,
   "id": "803dbdb3",
   "metadata": {},
   "outputs": [],
   "source": [
    "IIT[\"Year\"]  = 2023"
   ]
  },
  {
   "cell_type": "code",
   "execution_count": 32,
   "id": "d6a07ab7",
   "metadata": {},
   "outputs": [],
   "source": [
    "IIT.to_csv(\"IIT_2023\")"
   ]
  },
  {
   "cell_type": "code",
   "execution_count": 33,
   "id": "d3323a7d",
   "metadata": {},
   "outputs": [
    {
     "data": {
      "text/plain": [
       "Institute    object\n",
       "Program      object\n",
       "Quota        object\n",
       "Seat Type    object\n",
       "Gender       object\n",
       "Opening      object\n",
       "Closing      object\n",
       "Round         int64\n",
       "Year          int64\n",
       "dtype: object"
      ]
     },
     "execution_count": 33,
     "metadata": {},
     "output_type": "execute_result"
    }
   ],
   "source": [
    "IIT.dtypes"
   ]
  },
  {
   "cell_type": "code",
   "execution_count": null,
   "id": "5ab40aa8",
   "metadata": {},
   "outputs": [],
   "source": []
  },
  {
   "cell_type": "code",
   "execution_count": null,
   "id": "800cbd00",
   "metadata": {},
   "outputs": [],
   "source": []
  },
  {
   "cell_type": "code",
   "execution_count": null,
   "id": "d46adde0",
   "metadata": {},
   "outputs": [],
   "source": []
  },
  {
   "cell_type": "code",
   "execution_count": null,
   "id": "aa64751d",
   "metadata": {},
   "outputs": [],
   "source": []
  },
  {
   "cell_type": "code",
   "execution_count": null,
   "id": "56bd99d5",
   "metadata": {},
   "outputs": [],
   "source": []
  },
  {
   "cell_type": "code",
   "execution_count": null,
   "id": "83900b8f",
   "metadata": {},
   "outputs": [],
   "source": []
  },
  {
   "cell_type": "code",
   "execution_count": null,
   "id": "fb0aab21",
   "metadata": {},
   "outputs": [],
   "source": []
  },
  {
   "cell_type": "code",
   "execution_count": null,
   "id": "1c89f5c4",
   "metadata": {},
   "outputs": [],
   "source": []
  }
 ],
 "metadata": {
  "kernelspec": {
   "display_name": "Python 3 (ipykernel)",
   "language": "python",
   "name": "python3"
  },
  "language_info": {
   "codemirror_mode": {
    "name": "ipython",
    "version": 3
   },
   "file_extension": ".py",
   "mimetype": "text/x-python",
   "name": "python",
   "nbconvert_exporter": "python",
   "pygments_lexer": "ipython3",
   "version": "3.10.9"
  }
 },
 "nbformat": 4,
 "nbformat_minor": 5
}
