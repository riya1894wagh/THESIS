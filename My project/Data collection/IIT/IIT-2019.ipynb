{
 "cells": [
  {
   "cell_type": "code",
   "execution_count": 33,
   "id": "df7c7b77",
   "metadata": {},
   "outputs": [],
   "source": [
    "import pandas as pd"
   ]
  },
  {
   "cell_type": "code",
   "execution_count": 34,
   "id": "d5d0b911",
   "metadata": {},
   "outputs": [],
   "source": [
    "df = pd.read_excel(\"2019.xlsx\")"
   ]
  },
  {
   "cell_type": "code",
   "execution_count": 35,
   "id": "0387e92f",
   "metadata": {},
   "outputs": [
    {
     "data": {
      "text/html": [
       "<div>\n",
       "<style scoped>\n",
       "    .dataframe tbody tr th:only-of-type {\n",
       "        vertical-align: middle;\n",
       "    }\n",
       "\n",
       "    .dataframe tbody tr th {\n",
       "        vertical-align: top;\n",
       "    }\n",
       "\n",
       "    .dataframe thead th {\n",
       "        text-align: right;\n",
       "    }\n",
       "</style>\n",
       "<table border=\"1\" class=\"dataframe\">\n",
       "  <thead>\n",
       "    <tr style=\"text-align: right;\">\n",
       "      <th></th>\n",
       "      <th>Institute</th>\n",
       "      <th>Program</th>\n",
       "      <th>Quota</th>\n",
       "      <th>Seat Type</th>\n",
       "      <th>Gender</th>\n",
       "      <th>Opening</th>\n",
       "      <th>Closing</th>\n",
       "      <th>Round</th>\n",
       "    </tr>\n",
       "  </thead>\n",
       "  <tbody>\n",
       "    <tr>\n",
       "      <th>0</th>\n",
       "      <td>Indian Institute of Technology Bhubaneswar</td>\n",
       "      <td>Civil Engineering (4 Years, Bachelor of Techno...</td>\n",
       "      <td>AI</td>\n",
       "      <td>OPEN</td>\n",
       "      <td>Gender-Neutral</td>\n",
       "      <td>6546</td>\n",
       "      <td>7720</td>\n",
       "      <td>1.0</td>\n",
       "    </tr>\n",
       "    <tr>\n",
       "      <th>1</th>\n",
       "      <td>Indian Institute of Technology Bhubaneswar</td>\n",
       "      <td>Civil Engineering (4 Years, Bachelor of Techno...</td>\n",
       "      <td>AI</td>\n",
       "      <td>OPEN</td>\n",
       "      <td>Female-only (including Supernumerary)</td>\n",
       "      <td>11238</td>\n",
       "      <td>13803</td>\n",
       "      <td>1.0</td>\n",
       "    </tr>\n",
       "    <tr>\n",
       "      <th>2</th>\n",
       "      <td>Indian Institute of Technology Bhubaneswar</td>\n",
       "      <td>Civil Engineering (4 Years, Bachelor of Techno...</td>\n",
       "      <td>AI</td>\n",
       "      <td>OPEN (PwD)</td>\n",
       "      <td>Gender-Neutral</td>\n",
       "      <td>119P</td>\n",
       "      <td>119P</td>\n",
       "      <td>1.0</td>\n",
       "    </tr>\n",
       "    <tr>\n",
       "      <th>3</th>\n",
       "      <td>Indian Institute of Technology Bhubaneswar</td>\n",
       "      <td>Civil Engineering (4 Years, Bachelor of Techno...</td>\n",
       "      <td>AI</td>\n",
       "      <td>EWS</td>\n",
       "      <td>Gender-Neutral</td>\n",
       "      <td>736</td>\n",
       "      <td>770</td>\n",
       "      <td>1.0</td>\n",
       "    </tr>\n",
       "    <tr>\n",
       "      <th>4</th>\n",
       "      <td>Indian Institute of Technology Bhubaneswar</td>\n",
       "      <td>Civil Engineering (4 Years, Bachelor of Techno...</td>\n",
       "      <td>AI</td>\n",
       "      <td>EWS</td>\n",
       "      <td>Female-only (including Supernumerary)</td>\n",
       "      <td>1694</td>\n",
       "      <td>1694</td>\n",
       "      <td>1.0</td>\n",
       "    </tr>\n",
       "    <tr>\n",
       "      <th>...</th>\n",
       "      <td>...</td>\n",
       "      <td>...</td>\n",
       "      <td>...</td>\n",
       "      <td>...</td>\n",
       "      <td>...</td>\n",
       "      <td>...</td>\n",
       "      <td>...</td>\n",
       "      <td>...</td>\n",
       "    </tr>\n",
       "    <tr>\n",
       "      <th>195</th>\n",
       "      <td>Indian Institute of Technology Bombay</td>\n",
       "      <td>Electrical Engineering (4 Years, Bachelor of T...</td>\n",
       "      <td>AI</td>\n",
       "      <td>OPEN</td>\n",
       "      <td>Gender-Neutral</td>\n",
       "      <td>71</td>\n",
       "      <td>292</td>\n",
       "      <td>1.0</td>\n",
       "    </tr>\n",
       "    <tr>\n",
       "      <th>196</th>\n",
       "      <td>Indian Institute of Technology Bombay</td>\n",
       "      <td>Electrical Engineering (4 Years, Bachelor of T...</td>\n",
       "      <td>AI</td>\n",
       "      <td>OPEN</td>\n",
       "      <td>Female-only (including Supernumerary)</td>\n",
       "      <td>697</td>\n",
       "      <td>1058</td>\n",
       "      <td>1.0</td>\n",
       "    </tr>\n",
       "    <tr>\n",
       "      <th>197</th>\n",
       "      <td>Indian Institute of Technology Bombay</td>\n",
       "      <td>Electrical Engineering (4 Years, Bachelor of T...</td>\n",
       "      <td>AI</td>\n",
       "      <td>OPEN (PwD)</td>\n",
       "      <td>Gender-Neutral</td>\n",
       "      <td>10</td>\n",
       "      <td>10</td>\n",
       "      <td>1.0</td>\n",
       "    </tr>\n",
       "    <tr>\n",
       "      <th>198</th>\n",
       "      <td>Indian Institute of Technology Bombay</td>\n",
       "      <td>Electrical Engineering (4 Years, Bachelor of T...</td>\n",
       "      <td>AI</td>\n",
       "      <td>EWS</td>\n",
       "      <td>Gender-Neutral</td>\n",
       "      <td>21</td>\n",
       "      <td>24</td>\n",
       "      <td>1.0</td>\n",
       "    </tr>\n",
       "    <tr>\n",
       "      <th>199</th>\n",
       "      <td>Indian Institute of Technology Bombay</td>\n",
       "      <td>Electrical Engineering (4 Years, Bachelor of T...</td>\n",
       "      <td>AI</td>\n",
       "      <td>OBC-NCL</td>\n",
       "      <td>Gender-Neutral</td>\n",
       "      <td>60</td>\n",
       "      <td>174</td>\n",
       "      <td>1.0</td>\n",
       "    </tr>\n",
       "  </tbody>\n",
       "</table>\n",
       "<p>200 rows × 8 columns</p>\n",
       "</div>"
      ],
      "text/plain": [
       "                                      Institute  \\\n",
       "0    Indian Institute of Technology Bhubaneswar   \n",
       "1    Indian Institute of Technology Bhubaneswar   \n",
       "2    Indian Institute of Technology Bhubaneswar   \n",
       "3    Indian Institute of Technology Bhubaneswar   \n",
       "4    Indian Institute of Technology Bhubaneswar   \n",
       "..                                          ...   \n",
       "195       Indian Institute of Technology Bombay   \n",
       "196       Indian Institute of Technology Bombay   \n",
       "197       Indian Institute of Technology Bombay   \n",
       "198       Indian Institute of Technology Bombay   \n",
       "199       Indian Institute of Technology Bombay   \n",
       "\n",
       "                                               Program Quota   Seat Type  \\\n",
       "0    Civil Engineering (4 Years, Bachelor of Techno...    AI        OPEN   \n",
       "1    Civil Engineering (4 Years, Bachelor of Techno...    AI        OPEN   \n",
       "2    Civil Engineering (4 Years, Bachelor of Techno...    AI  OPEN (PwD)   \n",
       "3    Civil Engineering (4 Years, Bachelor of Techno...    AI         EWS   \n",
       "4    Civil Engineering (4 Years, Bachelor of Techno...    AI         EWS   \n",
       "..                                                 ...   ...         ...   \n",
       "195  Electrical Engineering (4 Years, Bachelor of T...    AI        OPEN   \n",
       "196  Electrical Engineering (4 Years, Bachelor of T...    AI        OPEN   \n",
       "197  Electrical Engineering (4 Years, Bachelor of T...    AI  OPEN (PwD)   \n",
       "198  Electrical Engineering (4 Years, Bachelor of T...    AI         EWS   \n",
       "199  Electrical Engineering (4 Years, Bachelor of T...    AI     OBC-NCL   \n",
       "\n",
       "                                    Gender Opening Closing  Round  \n",
       "0                           Gender-Neutral    6546    7720    1.0  \n",
       "1    Female-only (including Supernumerary)   11238   13803    1.0  \n",
       "2                           Gender-Neutral    119P    119P    1.0  \n",
       "3                           Gender-Neutral     736     770    1.0  \n",
       "4    Female-only (including Supernumerary)    1694    1694    1.0  \n",
       "..                                     ...     ...     ...    ...  \n",
       "195                         Gender-Neutral      71     292    1.0  \n",
       "196  Female-only (including Supernumerary)     697    1058    1.0  \n",
       "197                         Gender-Neutral      10      10    1.0  \n",
       "198                         Gender-Neutral      21      24    1.0  \n",
       "199                         Gender-Neutral      60     174    1.0  \n",
       "\n",
       "[200 rows x 8 columns]"
      ]
     },
     "execution_count": 35,
     "metadata": {},
     "output_type": "execute_result"
    }
   ],
   "source": [
    "df.head(200)"
   ]
  },
  {
   "cell_type": "code",
   "execution_count": 36,
   "id": "8b76fc00",
   "metadata": {},
   "outputs": [],
   "source": [
    "IIT_Bhubaneswar = df[df[\"Institute\"] == \"Indian Institute of Technology Bhubaneswar\"]"
   ]
  },
  {
   "cell_type": "code",
   "execution_count": 37,
   "id": "47611a08",
   "metadata": {},
   "outputs": [],
   "source": [
    "IIT_Bombay = df[df[\"Institute\"] == \"Indian Institute of Technology Bombay\"]"
   ]
  },
  {
   "cell_type": "code",
   "execution_count": 38,
   "id": "5ab60829",
   "metadata": {},
   "outputs": [],
   "source": [
    "IIT_Mandi = df[df[\"Institute\"] == \"Indian Institute of Technology Mandi\"]"
   ]
  },
  {
   "cell_type": "code",
   "execution_count": 39,
   "id": "356bfcc0",
   "metadata": {},
   "outputs": [],
   "source": [
    "IIT_Delhi = df[df[\"Institute\"] == \"Indian Institute of Technology Delhi\"]"
   ]
  },
  {
   "cell_type": "code",
   "execution_count": 40,
   "id": "44c6e1d0",
   "metadata": {},
   "outputs": [],
   "source": [
    "IIT_Indore = df[df[\"Institute\"] == \"Indian Institute of Technology Indore\"]"
   ]
  },
  {
   "cell_type": "code",
   "execution_count": 41,
   "id": "b8d673af",
   "metadata": {},
   "outputs": [],
   "source": [
    "IIT_Kharagpur = df[df[\"Institute\"] == \"Indian Institute of Technology Kharagpur\"]"
   ]
  },
  {
   "cell_type": "code",
   "execution_count": 42,
   "id": "d78bb9ef",
   "metadata": {},
   "outputs": [],
   "source": [
    "IIT_Hyderabad = df[df[\"Institute\"] == \"Indian Institute of Technology Hyderabad\"]"
   ]
  },
  {
   "cell_type": "code",
   "execution_count": 43,
   "id": "1bd32849",
   "metadata": {},
   "outputs": [],
   "source": [
    "IIT_Jodhpur = df[df[\"Institute\"] == \"Indian Institute of Technology Jodhpur\"]"
   ]
  },
  {
   "cell_type": "code",
   "execution_count": 44,
   "id": "96146f8e",
   "metadata": {},
   "outputs": [],
   "source": [
    "IIT_Kanpur = df[df[\"Institute\"] == \"Indian Institute of Technology Kanpur\"]"
   ]
  },
  {
   "cell_type": "code",
   "execution_count": 45,
   "id": "ea815e86",
   "metadata": {},
   "outputs": [],
   "source": [
    "IIT_Madras = df[df[\"Institute\"] == \"Indian Institute of Technology Madras\"]"
   ]
  },
  {
   "cell_type": "code",
   "execution_count": 46,
   "id": "650f5fdb",
   "metadata": {},
   "outputs": [],
   "source": [
    "IIT_Gandhinagar = df[df[\"Institute\"] == \"Indian Institute of Technology Gandhinagar\"]"
   ]
  },
  {
   "cell_type": "code",
   "execution_count": 47,
   "id": "8feef806",
   "metadata": {},
   "outputs": [],
   "source": [
    "IIT_Patna = df[df[\"Institute\"] == \"Indian Institute of Technology patna\"]"
   ]
  },
  {
   "cell_type": "code",
   "execution_count": 48,
   "id": "8b69cd6f",
   "metadata": {},
   "outputs": [],
   "source": [
    "IIT_Roorkee = df[df[\"Institute\"] == \"Indian Institute of Technology Roorkee\"]"
   ]
  },
  {
   "cell_type": "code",
   "execution_count": 49,
   "id": "d94f3599",
   "metadata": {},
   "outputs": [],
   "source": [
    "IIT_Dhanbad = df[df[\"Institute\"] == \"Indian Institute of Technology (ISM) Dhanbad\"]"
   ]
  },
  {
   "cell_type": "code",
   "execution_count": 50,
   "id": "83d1cf75",
   "metadata": {},
   "outputs": [],
   "source": [
    "IIT_Ropar = df[df[\"Institute\"] == \"Indian Institute of Technology Ropar\"]"
   ]
  },
  {
   "cell_type": "code",
   "execution_count": 51,
   "id": "cf0a4813",
   "metadata": {},
   "outputs": [],
   "source": [
    "IIT_Varanasi = df[df[\"Institute\"] == \"Indian Institute of Technology (BHU) Varanasi\"]"
   ]
  },
  {
   "cell_type": "code",
   "execution_count": 52,
   "id": "82620a63",
   "metadata": {},
   "outputs": [],
   "source": [
    "IIT_Guwahati = df[df[\"Institute\"] == \"Indian Institute of Technology Guwahati\"]"
   ]
  },
  {
   "cell_type": "code",
   "execution_count": 53,
   "id": "30a70e99",
   "metadata": {},
   "outputs": [],
   "source": [
    "IIT_Bhilai = df[df[\"Institute\"] == \"Indian Institute of Technology Bhilai\"]"
   ]
  },
  {
   "cell_type": "code",
   "execution_count": 54,
   "id": "9ac7370d",
   "metadata": {},
   "outputs": [],
   "source": [
    "IIT_Goa = df[df[\"Institute\"] == \"Indian Institute of Technology Goa\"]"
   ]
  },
  {
   "cell_type": "code",
   "execution_count": 55,
   "id": "808d3367",
   "metadata": {},
   "outputs": [],
   "source": [
    "IIT_Palakkad = df[df[\"Institute\"] == \"Indian Institute of Technology Palakkad\"]"
   ]
  },
  {
   "cell_type": "code",
   "execution_count": 56,
   "id": "fe6dcbb9",
   "metadata": {},
   "outputs": [],
   "source": [
    "IIT_Tirupati = df[df[\"Institute\"] == \"Indian Institute of Technology Tirupati\"]"
   ]
  },
  {
   "cell_type": "code",
   "execution_count": 57,
   "id": "c7ed66f0",
   "metadata": {},
   "outputs": [],
   "source": [
    "IIT_Jammu = df[df[\"Institute\"] == \"Indian Institute of Technology Jammu\"]"
   ]
  },
  {
   "cell_type": "code",
   "execution_count": 58,
   "id": "5d8475b7",
   "metadata": {},
   "outputs": [],
   "source": [
    "IIT_Dharwad= df[df[\"Institute\"] == \"Indian Institute of Technology Dharwad\"]"
   ]
  },
  {
   "cell_type": "code",
   "execution_count": 59,
   "id": "7e57e01b",
   "metadata": {},
   "outputs": [],
   "source": [
    "df_list = [IIT_Bhilai,IIT_Bhubaneswar,IIT_Bombay,IIT_Delhi,IIT_Dhanbad,IIT_Dharwad,IIT_Gandhinagar,IIT_Goa,IIT_Guwahati,IIT_Hyderabad,\n",
    "IIT_Indore,IIT_Jammu,IIT_Jodhpur,IIT_Kanpur,IIT_Kharagpur,IIT_Madras,IIT_Madras,IIT_Mandi,IIT_Palakkad,IIT_Patna,IIT_Roorkee,\n",
    "IIT_Ropar,IIT_Tirupati,IIT_Varanasi]"
   ]
  },
  {
   "cell_type": "code",
   "execution_count": 60,
   "id": "1a9e1921",
   "metadata": {},
   "outputs": [],
   "source": [
    "IIT = pd.concat(df_list , axis=0 , ignore_index=True)"
   ]
  },
  {
   "cell_type": "code",
   "execution_count": 61,
   "id": "959a1449",
   "metadata": {},
   "outputs": [],
   "source": [
    "IIT[\"Year\"] = 2019"
   ]
  },
  {
   "cell_type": "code",
   "execution_count": 62,
   "id": "d72ad4a4",
   "metadata": {},
   "outputs": [],
   "source": [
    "IIT.to_csv(\"IIT_2019\")"
   ]
  },
  {
   "cell_type": "code",
   "execution_count": 63,
   "id": "9903719c",
   "metadata": {},
   "outputs": [
    {
     "data": {
      "text/plain": [
       "Institute     object\n",
       "Program       object\n",
       "Quota         object\n",
       "Seat Type     object\n",
       "Gender        object\n",
       "Opening       object\n",
       "Closing       object\n",
       "Round        float64\n",
       "Year           int64\n",
       "dtype: object"
      ]
     },
     "execution_count": 63,
     "metadata": {},
     "output_type": "execute_result"
    }
   ],
   "source": [
    "IIT.dtypes"
   ]
  },
  {
   "cell_type": "code",
   "execution_count": null,
   "id": "546868d8",
   "metadata": {},
   "outputs": [],
   "source": []
  }
 ],
 "metadata": {
  "kernelspec": {
   "display_name": "Python 3 (ipykernel)",
   "language": "python",
   "name": "python3"
  },
  "language_info": {
   "codemirror_mode": {
    "name": "ipython",
    "version": 3
   },
   "file_extension": ".py",
   "mimetype": "text/x-python",
   "name": "python",
   "nbconvert_exporter": "python",
   "pygments_lexer": "ipython3",
   "version": "3.10.9"
  }
 },
 "nbformat": 4,
 "nbformat_minor": 5
}
