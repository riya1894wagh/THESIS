{
 "cells": [
  {
   "cell_type": "code",
   "execution_count": 1,
   "id": "f28fdc2e",
   "metadata": {},
   "outputs": [],
   "source": [
    "import pandas as pd"
   ]
  },
  {
   "cell_type": "code",
   "execution_count": 2,
   "id": "a3d783de",
   "metadata": {},
   "outputs": [],
   "source": [
    "df2 = pd.read_csv(\"IIT_2018\")"
   ]
  },
  {
   "cell_type": "code",
   "execution_count": 3,
   "id": "2edc30ee",
   "metadata": {},
   "outputs": [],
   "source": [
    "df3 = pd.read_csv(\"IIT_2019\")"
   ]
  },
  {
   "cell_type": "code",
   "execution_count": 4,
   "id": "6b1f02b6",
   "metadata": {},
   "outputs": [],
   "source": [
    "df4 = pd.read_csv(\"IIT_2020\")"
   ]
  },
  {
   "cell_type": "code",
   "execution_count": 5,
   "id": "6cd979f9",
   "metadata": {},
   "outputs": [],
   "source": [
    "df5 = pd.read_csv(\"IIT_2021\")"
   ]
  },
  {
   "cell_type": "code",
   "execution_count": 6,
   "id": "aab5cc11",
   "metadata": {},
   "outputs": [],
   "source": [
    "df6 = pd.read_csv(\"IIT_2022\")"
   ]
  },
  {
   "cell_type": "code",
   "execution_count": 7,
   "id": "2208c02d",
   "metadata": {},
   "outputs": [],
   "source": [
    "df_list = [df2 , df3 , df4, df5, df6]"
   ]
  },
  {
   "cell_type": "code",
   "execution_count": 8,
   "id": "2ea8a095",
   "metadata": {},
   "outputs": [],
   "source": [
    "IIT = pd.concat(df_list , axis=0 , ignore_index=True)"
   ]
  },
  {
   "cell_type": "code",
   "execution_count": 9,
   "id": "5a343c5b",
   "metadata": {},
   "outputs": [],
   "source": [
    "IIT.to_csv(\"IIT_Training\")"
   ]
  },
  {
   "cell_type": "code",
   "execution_count": 10,
   "id": "6d446c7a",
   "metadata": {},
   "outputs": [
    {
     "data": {
      "text/plain": [
       "Unnamed: 0      int64\n",
       "Institute      object\n",
       "Program        object\n",
       "Quota          object\n",
       "Seat Type      object\n",
       "Gender         object\n",
       "Opening        object\n",
       "Closing        object\n",
       "Round         float64\n",
       "Year            int64\n",
       "dtype: object"
      ]
     },
     "execution_count": 10,
     "metadata": {},
     "output_type": "execute_result"
    }
   ],
   "source": [
    "IIT.dtypes"
   ]
  },
  {
   "cell_type": "code",
   "execution_count": 16,
   "id": "326c8281",
   "metadata": {},
   "outputs": [],
   "source": [
    "IIT=IIT.drop(columns=\"Unnamed: 0\")"
   ]
  },
  {
   "cell_type": "code",
   "execution_count": 17,
   "id": "4b6c2259",
   "metadata": {
    "scrolled": true
   },
   "outputs": [
    {
     "data": {
      "text/html": [
       "<div>\n",
       "<style scoped>\n",
       "    .dataframe tbody tr th:only-of-type {\n",
       "        vertical-align: middle;\n",
       "    }\n",
       "\n",
       "    .dataframe tbody tr th {\n",
       "        vertical-align: top;\n",
       "    }\n",
       "\n",
       "    .dataframe thead th {\n",
       "        text-align: right;\n",
       "    }\n",
       "</style>\n",
       "<table border=\"1\" class=\"dataframe\">\n",
       "  <thead>\n",
       "    <tr style=\"text-align: right;\">\n",
       "      <th></th>\n",
       "      <th>Institute</th>\n",
       "      <th>Program</th>\n",
       "      <th>Quota</th>\n",
       "      <th>Seat Type</th>\n",
       "      <th>Gender</th>\n",
       "      <th>Opening</th>\n",
       "      <th>Closing</th>\n",
       "      <th>Round</th>\n",
       "      <th>Year</th>\n",
       "    </tr>\n",
       "  </thead>\n",
       "  <tbody>\n",
       "    <tr>\n",
       "      <th>0</th>\n",
       "      <td>Indian Institute of Technology Bhilai</td>\n",
       "      <td>Computer Science and Engineering (4 Years, Bac...</td>\n",
       "      <td>AI</td>\n",
       "      <td>OPEN</td>\n",
       "      <td>Gender-Neutral</td>\n",
       "      <td>3702</td>\n",
       "      <td>4752</td>\n",
       "      <td>1.0</td>\n",
       "      <td>2018</td>\n",
       "    </tr>\n",
       "    <tr>\n",
       "      <th>1</th>\n",
       "      <td>Indian Institute of Technology Bhilai</td>\n",
       "      <td>Computer Science and Engineering (4 Years, Bac...</td>\n",
       "      <td>AI</td>\n",
       "      <td>OPEN</td>\n",
       "      <td>Female-only (including Supernumerary)</td>\n",
       "      <td>6179</td>\n",
       "      <td>7652</td>\n",
       "      <td>1.0</td>\n",
       "      <td>2018</td>\n",
       "    </tr>\n",
       "    <tr>\n",
       "      <th>2</th>\n",
       "      <td>Indian Institute of Technology Bhilai</td>\n",
       "      <td>Computer Science and Engineering (4 Years, Bac...</td>\n",
       "      <td>AI</td>\n",
       "      <td>OBC-NCL</td>\n",
       "      <td>Gender-Neutral</td>\n",
       "      <td>1018</td>\n",
       "      <td>1832</td>\n",
       "      <td>1.0</td>\n",
       "      <td>2018</td>\n",
       "    </tr>\n",
       "    <tr>\n",
       "      <th>3</th>\n",
       "      <td>Indian Institute of Technology Bhilai</td>\n",
       "      <td>Computer Science and Engineering (4 Years, Bac...</td>\n",
       "      <td>AI</td>\n",
       "      <td>OBC-NCL</td>\n",
       "      <td>Female-only (including Supernumerary)</td>\n",
       "      <td>3272</td>\n",
       "      <td>3649</td>\n",
       "      <td>1.0</td>\n",
       "      <td>2018</td>\n",
       "    </tr>\n",
       "    <tr>\n",
       "      <th>4</th>\n",
       "      <td>Indian Institute of Technology Bhilai</td>\n",
       "      <td>Computer Science and Engineering (4 Years, Bac...</td>\n",
       "      <td>AI</td>\n",
       "      <td>SC</td>\n",
       "      <td>Gender-Neutral</td>\n",
       "      <td>807</td>\n",
       "      <td>1051</td>\n",
       "      <td>1.0</td>\n",
       "      <td>2018</td>\n",
       "    </tr>\n",
       "  </tbody>\n",
       "</table>\n",
       "</div>"
      ],
      "text/plain": [
       "                               Institute  \\\n",
       "0  Indian Institute of Technology Bhilai   \n",
       "1  Indian Institute of Technology Bhilai   \n",
       "2  Indian Institute of Technology Bhilai   \n",
       "3  Indian Institute of Technology Bhilai   \n",
       "4  Indian Institute of Technology Bhilai   \n",
       "\n",
       "                                             Program Quota Seat Type  \\\n",
       "0  Computer Science and Engineering (4 Years, Bac...    AI      OPEN   \n",
       "1  Computer Science and Engineering (4 Years, Bac...    AI      OPEN   \n",
       "2  Computer Science and Engineering (4 Years, Bac...    AI   OBC-NCL   \n",
       "3  Computer Science and Engineering (4 Years, Bac...    AI   OBC-NCL   \n",
       "4  Computer Science and Engineering (4 Years, Bac...    AI        SC   \n",
       "\n",
       "                                  Gender Opening Closing  Round  Year  \n",
       "0                         Gender-Neutral    3702    4752    1.0  2018  \n",
       "1  Female-only (including Supernumerary)    6179    7652    1.0  2018  \n",
       "2                         Gender-Neutral    1018    1832    1.0  2018  \n",
       "3  Female-only (including Supernumerary)    3272    3649    1.0  2018  \n",
       "4                         Gender-Neutral     807    1051    1.0  2018  "
      ]
     },
     "execution_count": 17,
     "metadata": {},
     "output_type": "execute_result"
    }
   ],
   "source": [
    "IIT.head(5)"
   ]
  },
  {
   "cell_type": "code",
   "execution_count": null,
   "id": "d7edf1a2",
   "metadata": {},
   "outputs": [],
   "source": []
  },
  {
   "cell_type": "code",
   "execution_count": null,
   "id": "f984d7db",
   "metadata": {},
   "outputs": [],
   "source": []
  }
 ],
 "metadata": {
  "kernelspec": {
   "display_name": "Python 3 (ipykernel)",
   "language": "python",
   "name": "python3"
  },
  "language_info": {
   "codemirror_mode": {
    "name": "ipython",
    "version": 3
   },
   "file_extension": ".py",
   "mimetype": "text/x-python",
   "name": "python",
   "nbconvert_exporter": "python",
   "pygments_lexer": "ipython3",
   "version": "3.10.9"
  }
 },
 "nbformat": 4,
 "nbformat_minor": 5
}
